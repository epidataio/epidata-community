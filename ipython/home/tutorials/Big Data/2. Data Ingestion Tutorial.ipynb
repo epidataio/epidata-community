{
 "cells": [
  {
   "cell_type": "markdown",
   "metadata": {},
   "source": [
    "<h1 style=\"text-align:center;text-decoration: underline\">Data Ingestion Tutorial</h1>\n",
    "<h1>Overview</h1>\n",
    "<p>Welcome to the data ingestion tutorial. In this tutorial, we'll go over steps required to ingest data into EpiData. We'll also query the data and verify that our ingestion process was successful.</p>"
   ]
  },
  {
   "cell_type": "markdown",
   "metadata": {},
   "source": [
    "<h2>Generate Access Token</h2>\n",
    "\n",
    "<p>The first step in ingesting data into EpiData is obtaining an access token for session authentication. At present, EpiData supports GitHub's Personal Access Token.<p>\n",
    "<p>You can go ahead and create a Personal Access Token by visiting https://github.com/settings/tokens</p>"
   ]
  },
  {
   "cell_type": "markdown",
   "metadata": {},
   "source": [
    "<h2>Modify Ingestion Example</h2>\n",
    "<p>Once an access token is available, you can use it within the data ingestion program by following these steps:<p>\n",
    "<ul><li><p>Download the Python ingestion example <i>sensor_data_ingest.py</i> available in your Notebook tree view.</p></li>\n",
    "<li><p>Update the ACCESS_TOKEN variable (in <i>sensor_data_ingest.py</i>) to the Personal Access Token you created on GitHub's website.\n",
    "<ul><li>ACCESS_TOKEN = '&#60;Personal Access Token&#62;'</li></ul></li></p>\n",
    "<li><p>Modify the default values of the following variables (optional):\n",
    "<ul><li>COMPANY</li>\n",
    "<li>SITE</li>\n",
    "<li>STATION</li>\n",
    "</ul></li>\n",
    "</ul></p>"
   ]
  },
  {
   "cell_type": "markdown",
   "metadata": {},
   "source": [
    "<h2>Run Ingestion Example</h2>\n",
    "<p>The next step is to run the updated example <i>'sensor_data_ingest.py'</i> by using a Python 2.x interpreter. The example sends data to EpiData server using REST interface. You should see status of each ingestion steps in your standard output.</p>\n",
    "<p>You can let the example run and ingest data for a short period of time, and interrupt it by using Ctrl-C command.</p>"
   ]
  },
  {
   "cell_type": "markdown",
   "metadata": {},
   "source": [
    "<h2>Query and Display Data</h2>\n",
    "<p>We'll now query the database for the data that was ingested in the previous step. Let's start by running the cell below that imports the required modules.</p>"
   ]
  },
  {
   "cell_type": "code",
   "execution_count": null,
   "metadata": {
    "collapsed": true
   },
   "outputs": [],
   "source": [
    "#from epidata.context import ec\n",
    "from datetime import datetime, timedelta\n",
    "import pandas as pd"
   ]
  },
  {
   "cell_type": "markdown",
   "metadata": {},
   "source": [
    "<p>In the cell below, let's modify the variables COMPANY, SITE and SENSOR to match the data recently ingested, and run the cell to query the data.</p>"
   ]
  },
  {
   "cell_type": "code",
   "execution_count": null,
   "metadata": {
    "collapsed": true
   },
   "outputs": [],
   "source": [
    "COMPANY = 'EpiData'\n",
    "SITE = 'San_Jose'\n",
    "STATION = 'WSN-1'\n",
    "start_time = datetime.strptime('8/1/2017 00:00:00', '%m/%d/%Y %H:%M:%S')\n",
    "stop_time = datetime.strptime('8/31/2017 00:00:00', '%m/%d/%Y %H:%M:%S')\n",
    "\n",
    "primary_key={\"company\": COMPANY, \"site\": SITE, \"station\": STATION, \"sensor\": [\"Temperature_Probe\",\"Anemometer\",\"RH_Probe\"]}\n",
    "df = ec.query_measurements_original(primary_key, start_time, stop_time)"
   ]
  },
  {
   "cell_type": "markdown",
   "metadata": {},
   "source": [
    "<p>Next we'll display the initial few records using <i>df.show()</i> function, and visually verify that the data matches the ingested data.</p>"
   ]
  },
  {
   "cell_type": "code",
   "execution_count": null,
   "metadata": {
    "collapsed": true
   },
   "outputs": [],
   "source": [
    "df = df.select(\"company\", \"site\", \"station\", \"ts\", \"meas_name\", \"meas_value\", \"meas_unit\")\n",
    "df.show(5)"
   ]
  },
  {
   "cell_type": "markdown",
   "metadata": {},
   "source": [
    "<h2>Summary</h2>"
   ]
  },
  {
   "cell_type": "markdown",
   "metadata": {},
   "source": [
    "<p>Congratulations, you have successfully completed the steps of establishing an authenticated session, ingesting sample data and querying the ingested data. These are the basic steps involved in using EpiData for sensor measurements.</p>"
   ]
  }
 ],
 "metadata": {
  "kernelspec": {
   "display_name": "EpiData PySpark",
   "language": "python",
   "name": "pyspark"
  },
  "language_info": {
   "codemirror_mode": {
    "name": "ipython",
    "version": 2
   },
   "file_extension": ".py",
   "mimetype": "text/x-python",
   "name": "python",
   "nbconvert_exporter": "python",
   "pygments_lexer": "ipython2",
   "version": "2.7.6"
  },
  "read_only": true
 },
 "nbformat": 4,
 "nbformat_minor": 1
}
