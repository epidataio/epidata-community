{
 "cells": [
  {
   "cell_type": "markdown",
   "metadata": {},
   "source": [
    "<h1 style=\"text-align:center;text-decoration: underline\">Getting Started Tutorial</h1>\n",
    "<h1>Overview</h1>\n",
    "<p>Welcome to the getting started tutorial for EpiData's Jupyter Notebook inteface. In this tutorial we will query, retrieve and analyze sample weather data acquired from a simulated wireless sensor network.</p>\n",
    "<p>Note: The tutorial assumes that you have a working knowledge of Jupyter Notebook.</p>"
   ]
  },
  {
   "cell_type": "markdown",
   "metadata": {},
   "source": [
    "<h2>Package and Module Imports</h2>\n",
    "<p>As a first step, we will import packages and modules required for this tutorial. Since <i>EpiData Context (ec)</i> is required to use the application, it is implicitly imported. Other modules, such as <i>datetime</i>, <i>pandas</i> and <i>matplotlib</i>, can be imported at this time. Let's run the cell below to import these modules.\n",
    "</p>"
   ]
  },
  {
   "cell_type": "code",
   "execution_count": null,
   "metadata": {
    "collapsed": true
   },
   "outputs": [],
   "source": [
    "#from epidata.context import ec\n",
    "from datetime import datetime, timedelta\n",
    "import pandas as pd\n",
    "import matplotlib.pyplot as plt"
   ]
  },
  {
   "cell_type": "markdown",
   "metadata": {},
   "source": [
    "<h2>Query and Retrieve</h2>\n",
    "\n",
    "<h3>1. Query</h3>\n",
    "<p>Data stored in the database can be queried by specifying the values of primary keys, start time and stop time. Below are the required primary keys for the current dataset:\n",
    "<ul>\n",
    "<li><i>company, site, station, sensor</i></li>\n",
    "</ul>\n",
    "</p>\n",
    "<p>\n",
    "In several cases, one may not know the values stored in the primary keys. We have provided the <i>ec.list_keys()</i> function to obtain valid combination of primary keys values. Let's run the code below to see these values for sample weather data.\n",
    "</p>"
   ]
  },
  {
   "cell_type": "code",
   "execution_count": null,
   "metadata": {},
   "outputs": [],
   "source": [
    "keys = ec.list_keys()\n",
    "keys.toPandas()"
   ]
  },
  {
   "cell_type": "markdown",
   "metadata": {},
   "source": [
    "<p>Now that we know the valid primary keys values for sample weather data, we can specify them in <i>ec.query_measurements_original()</i> function. The function outputs the query result as an <i>EpiData DataFrame</i>.</p>"
   ]
  },
  {
   "cell_type": "code",
   "execution_count": null,
   "metadata": {
    "collapsed": true
   },
   "outputs": [],
   "source": [
    "primary_key={\"company\": \"EpiData\", \"site\": \"San_Jose\", \"station\":\"WSN-1\", \"sensor\": [\"Temperature_Probe\",\"Anemometer\",\"RH_Probe\"]}\n",
    "start_time = datetime.strptime('8/1/2017 00:00:00', '%m/%d/%Y %H:%M:%S')\n",
    "stop_time = datetime.strptime('8/31/2017 00:00:00', '%m/%d/%Y %H:%M:%S')\n",
    "df = ec.query_measurements_original(primary_key, start_time, stop_time)"
   ]
  },
  {
   "cell_type": "markdown",
   "metadata": {},
   "source": [
    "<h3>2. Retrieve</h3>\n",
    "<p>Data is retrieved from the database as an <i>EpiData dataframe</i>. To optimize memory and compute resources, we can reduce the size of the data by using the <i>df.select()</i> function. In the cell below, we will select the fields of interest, retrieve the data and count the number of records.</p>"
   ]
  },
  {
   "cell_type": "code",
   "execution_count": null,
   "metadata": {},
   "outputs": [],
   "source": [
    "df = df.select(\"site\", \"station\", \"ts\", \"meas_name\", \"meas_value\", \"meas_unit\")\n",
    "print \"Number of records:\", df.count()"
   ]
  },
  {
   "cell_type": "markdown",
   "metadata": {},
   "source": [
    "<p>Data can also be retreived as <i>pandas DataFrame</i> using the <i>toPandas()</i> function. Let's perform this operation and take a look at the initial 5 records of our sample data.</p>"
   ]
  },
  {
   "cell_type": "code",
   "execution_count": null,
   "metadata": {},
   "outputs": [],
   "source": [
    "dflocal = df.toPandas()\n",
    "dflocal.head(5)"
   ]
  },
  {
   "cell_type": "markdown",
   "metadata": {},
   "source": [
    "<h2>Data Analysis</h2>\n",
    "<p>Once data is available in a <i>pandas DataFrame</i>, we can call any of the high-performance and easy-to-use data analysis functions available in <i>pandas</i> library. Let's start by computing basic statistics such as min, max, mean, standard deviation and percentile for temperature measurements.</p>"
   ]
  },
  {
   "cell_type": "code",
   "execution_count": null,
   "metadata": {},
   "outputs": [],
   "source": [
    "dflocal = dflocal.loc[dflocal[\"meas_name\"]==\"Temperature\"]\n",
    "dflocal[\"meas_value\"].describe()"
   ]
  },
  {
   "cell_type": "markdown",
   "metadata": {},
   "source": [
    "<p>Next, we'll look at the distribution of the temperature measurements using a histogram.</p>"
   ]
  },
  {
   "cell_type": "code",
   "execution_count": null,
   "metadata": {},
   "outputs": [],
   "source": [
    "plt.rcParams[\"figure.figsize\"] = [10,5]\n",
    "plt.title(\"Histogram - Temperature Measurements\")\n",
    "plt.xlabel(\"Temperature (deg F)\")\n",
    "plt.ylabel(\"Frequency\")\n",
    "dflocal[\"meas_value\"].hist()"
   ]
  },
  {
   "cell_type": "markdown",
   "metadata": {},
   "source": [
    "<p>As we can see, most of the temperature measurements in our sample data are quite moderate. However, there are some measurements that are unusually high. Let's identify these outlier measurements using a simple method that compares each measurement with the sample mean and standard deviation.</p>"
   ]
  },
  {
   "cell_type": "code",
   "execution_count": null,
   "metadata": {},
   "outputs": [],
   "source": [
    "outliers = dflocal.loc[abs(dflocal[\"meas_value\"] - dflocal[\"meas_value\"].mean()) > abs(3*dflocal[\"meas_value\"].std())]\n",
    "print \"Number of Outliers:\", outliers[\"meas_value\"].count()\n",
    "outliers.head()"
   ]
  },
  {
   "cell_type": "markdown",
   "metadata": {},
   "source": [
    "<h2>Next Steps</h2>\n",
    "<p>Congratulations, you have successfully queried, retrieved and analyzed sample data aquired by a wireless sensor network. The next step is to explore the various capabilities of EpiData by creating your own Jupyter Notebook. Happy Data Exploring!</p>"
   ]
  }
 ],
 "metadata": {
  "kernelspec": {
   "display_name": "EpiData PySpark",
   "language": "python",
   "name": "pyspark"
  },
  "language_info": {
   "codemirror_mode": {
    "name": "ipython",
    "version": 2
   },
   "file_extension": ".py",
   "mimetype": "text/x-python",
   "name": "python",
   "nbconvert_exporter": "python",
   "pygments_lexer": "ipython2",
   "version": "2.7.6"
  },
  "read_only": true
 },
 "nbformat": 4,
 "nbformat_minor": 1
}
