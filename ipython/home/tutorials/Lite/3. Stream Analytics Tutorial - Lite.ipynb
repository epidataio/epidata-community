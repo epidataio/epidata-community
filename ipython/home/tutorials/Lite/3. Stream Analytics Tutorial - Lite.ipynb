{
 "cells": [
  {
   "cell_type": "markdown",
   "metadata": {},
   "source": [
    "<h1 style=\"text-align:center;text-decoration: underline\">Stream Analytics Tutorial</h1>\n",
    "<h1>Overview</h1>\n",
    "<p>Welcome to the stream analytics tutorial for EpiData Lite. In this tutorial we will perform near real-time stream analytics on sample weather data acquired from a simulated wireless sensor network.</p>"
   ]
  },
  {
   "cell_type": "markdown",
   "metadata": {},
   "source": [
    "<h2>Package and Module Imports</h2>\n",
    "<p>As a first step, we will import packages and modules required for this tutorial. Since <i>EpiData Lite Context (ec)</i> is required to use the application, it is implicitly imported. Sample functions for near real-time analytics are avaialable in <i>EpiData Analytics</i> package. Other packages and modules, such as <i>datetime</i>, <i>pandas</i> and <i>matplotlib</i>, can also be imported at this time.</p>"
   ]
  },
  {
   "cell_type": "code",
   "execution_count": 1,
   "metadata": {},
   "outputs": [
    {
     "name": "stdout",
     "output_type": "stream",
     "text": [
      "gateway:  <py4j.java_gateway.JavaGateway object at 0x124e31a50>\n",
      "gg:  <py4j.java_gateway.JavaGateway object at 0x12596fc10>\n",
      "'JavaPackage' object is not callable\n",
      "An error occurred while trying to connect to the Java server (127.0.0.1:25333)\n"
     ]
    },
    {
     "ename": "AttributeError",
     "evalue": "'EpidataLiteStreamingContext' object has no attribute '_jesc'",
     "output_type": "error",
     "traceback": [
      "\u001b[0;31m---------------------------------------------------------------------------\u001b[0m",
      "\u001b[0;31mAttributeError\u001b[0m                            Traceback (most recent call last)",
      "\u001b[0;32m<ipython-input-1-2497a3e0f955>\u001b[0m in \u001b[0;36m<module>\u001b[0;34m\u001b[0m\n\u001b[1;32m     16\u001b[0m \u001b[0;34m\u001b[0m\u001b[0m\n\u001b[1;32m     17\u001b[0m \u001b[0mec\u001b[0m \u001b[0;34m=\u001b[0m \u001b[0mEpidataLiteContext\u001b[0m\u001b[0;34m(\u001b[0m\u001b[0;34m)\u001b[0m\u001b[0;34m\u001b[0m\u001b[0;34m\u001b[0m\u001b[0m\n\u001b[0;32m---> 18\u001b[0;31m \u001b[0mesc\u001b[0m \u001b[0;34m=\u001b[0m \u001b[0mEpidataLiteStreamingContext\u001b[0m\u001b[0;34m(\u001b[0m\u001b[0;34m)\u001b[0m\u001b[0;34m\u001b[0m\u001b[0;34m\u001b[0m\u001b[0m\n\u001b[0m",
      "\u001b[0;32m~/Documents/Repos/epidata/epidata-community-interns/ipython/epidata/EpidataLiteStreamingContext.py\u001b[0m in \u001b[0;36m__init__\u001b[0;34m(self, esc_classpath, topics, sqlite_conf, zmq_conf, measurement_class)\u001b[0m\n\u001b[1;32m     47\u001b[0m         \u001b[0mself\u001b[0m\u001b[0;34m.\u001b[0m\u001b[0m_measurement_class\u001b[0m \u001b[0;34m=\u001b[0m \u001b[0mmeasurement_class\u001b[0m\u001b[0;34m\u001b[0m\u001b[0;34m\u001b[0m\u001b[0m\n\u001b[1;32m     48\u001b[0m \u001b[0;34m\u001b[0m\u001b[0m\n\u001b[0;32m---> 49\u001b[0;31m         \u001b[0mself\u001b[0m\u001b[0;34m.\u001b[0m\u001b[0m_jesc\u001b[0m\u001b[0;34m.\u001b[0m\u001b[0minit\u001b[0m\u001b[0;34m(\u001b[0m\u001b[0;34m)\u001b[0m\u001b[0;34m\u001b[0m\u001b[0;34m\u001b[0m\u001b[0m\n\u001b[0m\u001b[1;32m     50\u001b[0m \u001b[0;34m\u001b[0m\u001b[0m\n\u001b[1;32m     51\u001b[0m \u001b[0;34m\u001b[0m\u001b[0m\n",
      "\u001b[0;31mAttributeError\u001b[0m: 'EpidataLiteStreamingContext' object has no attribute '_jesc'"
     ]
    }
   ],
   "source": [
    "import sys\n",
    "sys.path.append(\"/Users/srinibadri/Documents/Repos/epidata/epidata-community-interns/ipython\")\n",
    "sys.path.append(\"/Users/srinibadri/Documents/Repos/epidata/epidata-community-interns/ipython/epidata\")\n",
    "\n",
    "from epidata.EpidataLiteContext import EpidataLiteContext\n",
    "from epidata.EpidataLiteStreamingContext import EpidataLiteStreamingContext\n",
    "#from epidata.analytics import *\n",
    "\n",
    "%matplotlib inline\n",
    "from datetime import datetime, timedelta\n",
    "import pandas as pd\n",
    "import time\n",
    "import pylab as pl\n",
    "from IPython import display\n",
    "import json\n",
    "\n",
    "ec = EpidataLiteContext()\n",
    "esc = EpidataLiteStreamingContext()"
   ]
  },
  {
   "cell_type": "markdown",
   "metadata": {},
   "source": [
    "<h2>Stream Analysis</h2>\n",
    "<h3>Function Definition</h3>\n",
    "<p>EpiData supports development and deployment of custom algorithms via Jupyter Notebook. Below, we define python functions for substituting extreme outliers and aggregating temperature measurements. These functions can be operated on near real-time and historic data. In this tutorial, we will apply the functions on near real-time data being ingested to the platform</p>"
   ]
  },
  {
   "cell_type": "code",
   "execution_count": 2,
   "metadata": {},
   "outputs": [],
   "source": [
    "import pandas as pd\n",
    "import math, numbers\n",
    "\n",
    "def identity_demo(df, meas_names=[], params={}):\n",
    "    \"\"\"\n",
    "    Returns input dataframe without changing it.\n",
    "    \"\"\"\n",
    "    \n",
    "    return df\n"
   ]
  },
  {
   "cell_type": "code",
   "execution_count": 3,
   "metadata": {},
   "outputs": [],
   "source": [
    "import pandas as pd\n",
    "import math, numbers\n",
    "import json\n",
    "import numpy as np\n",
    "\n",
    "def substitute_demo(df, meas_names, gateway, method=\"rolling\", size=3):\n",
    "    \"\"\"\n",
    "    Substitute missing measurement values within a data frame, using the specified method.\n",
    "    \"\"\"\n",
    "    print(df)\n",
    "    df[\"meas_value\"].replace(250, np.nan, inplace=True)\n",
    "    \n",
    "    for meas_name in meas_names:\n",
    "\n",
    "        if (method == \"rolling\"):\n",
    "            if ((size % 2 == 0) and (size != 0)): size += 1   \n",
    "            if df.loc[df[\"meas_name\"]==meas_name].size > 0:\n",
    "                indices = df.loc[df[\"meas_name\"] == meas_name].index[df.loc[df[\"meas_name\"] == meas_name][\"meas_value\"].apply(\n",
    "                    lambda x: not isinstance(x, str) and (x == None or np.isnan(x)))]\n",
    "                substitutes = df.loc[df[\"meas_name\"]==meas_name][\"meas_value\"].rolling( window=size, min_periods=1, center=True).mean()\n",
    "            \n",
    "                df[\"meas_value\"].fillna(substitutes, inplace=True)\n",
    "                df.loc[indices, \"meas_flag\"] = \"substituted\"\n",
    "                df.loc[indices, \"meas_method\"] = \"rolling average\"\n",
    "        else:\n",
    "            raise ValueError(\"Unsupported substitution method: \", repr(method))\n",
    "    print(df)\n",
    "    return df\n"
   ]
  },
  {
   "cell_type": "code",
   "execution_count": 4,
   "metadata": {},
   "outputs": [],
   "source": [
    "import pandas as pd\n",
    "import numpy as np\n",
    "import json\n",
    "\n",
    "def subgroup_statistics(row):\n",
    "    row['start_time'] = np.min(row[\"ts\"])\n",
    "    row[\"stop_time\"] = np.max(row[\"ts\"])\n",
    "    row[\"meas_summary_name\"] = \"statistics\"\n",
    "    row[\"meas_summary_value\"] = json.dumps({'count': row[\"meas_value\"].count(), 'mean': row[\"meas_value\"].mean(),\n",
    "                                            'std': row[\"meas_value\"].std(), 'min': row[\"meas_value\"].min(), \n",
    "                                            'max': row[\"meas_value\"].max()})\n",
    "    row[\"meas_summary_description\"] = \"descriptive statistics\"\n",
    "    return row\n",
    "\n",
    "def meas_statistics_demo(df, meas_names, method=\"standard\"):\n",
    "    \"\"\"\n",
    "    Compute statistics on measurement values within a data frame, using the specified method.\n",
    "    \"\"\"\n",
    "    \n",
    "    if (method == \"standard\"):\n",
    "        df_grouped = df.loc[df[\"meas_name\"].isin(meas_names)].groupby([\"company\", \"site\", \"station\", \"sensor\"], \n",
    "                            as_index=False)\n",
    "        df_summary = df_grouped.apply(subgroup_statistics).loc[:, [\"company\", \"site\", \"station\", \"sensor\",\n",
    "            \"start_time\", \"stop_time\", \"event\", \"meas_name\", \"meas_summary_name\", \"meas_summary_value\", \n",
    "            \"meas_summary_description\"]].drop_duplicates()\n",
    "    else:\n",
    "        raise ValueError(\"Unsupported summary method: \", repr(method))\n",
    "                \n",
    "    return df_summary"
   ]
  },
  {
   "cell_type": "markdown",
   "metadata": {},
   "source": [
    "<h3>Transformations and Streams</h3>\n",
    "<p>The analytics algorithms are executed on near real-time data through transformations. A transformation specifies the function, its parameters and destination. The destination can be one of the pre-defined topics, namely <i>'measurements_cleansed'</i> or <i>'measurements_summary'</i>, or another custom topic.</p>\n",
    "<p>Once the transformations are defined, they are initiated via <i>ec.create_stream(source_topic, destination_topic, transformation)</i> function call.</p>"
   ]
  },
  {
   "cell_type": "code",
   "execution_count": 5,
   "metadata": {},
   "outputs": [
    {
     "name": "stdout",
     "output_type": "stream",
     "text": [
      "stream created\n",
      "streams started\n",
      "   company event meas_datatype  meas_lower_limit          meas_name  \\\n",
      "0  EpiData  none        double              10.1        Temperature   \n",
      "1  EpiData  none        double               0.0         Wind_Speed   \n",
      "2  EpiData  none        double               NaN  Relative_Humidity   \n",
      "3  EpiData  none        double              10.1        Temperature   \n",
      "4  EpiData  none        double               0.0         Wind_Speed   \n",
      "\n",
      "  meas_status meas_unit  meas_upper_limit  meas_value             sensor  \\\n",
      "0        PASS     deg F             120.4       70.02  Temperature_Probe   \n",
      "1        PASS       mph              25.0       10.78         Anemometer   \n",
      "2        PASS         %               NaN       65.75           RH_Probe   \n",
      "3        PASS     deg F             120.4       71.05  Temperature_Probe   \n",
      "4        PASS       mph              25.0        1.38         Anemometer   \n",
      "\n",
      "            site station             ts  \n",
      "0  San_Francisco   WSN-1  1661879864386  \n",
      "1  San_Francisco   WSN-1  1661879864386  \n",
      "2  San_Francisco   WSN-1  1661879864386  \n",
      "3  San_Francisco   WSN-1  1661879864674  \n",
      "4  San_Francisco   WSN-1  1661879864674  \n",
      "   company event meas_datatype  meas_lower_limit          meas_name  \\\n",
      "0  EpiData  none        double              10.1        Temperature   \n",
      "1  EpiData  none        double               0.0         Wind_Speed   \n",
      "2  EpiData  none        double               NaN  Relative_Humidity   \n",
      "3  EpiData  none        double              10.1        Temperature   \n",
      "4  EpiData  none        double               0.0         Wind_Speed   \n",
      "\n",
      "  meas_status meas_unit  meas_upper_limit  meas_value             sensor  \\\n",
      "0        PASS     deg F             120.4       70.02  Temperature_Probe   \n",
      "1        PASS       mph              25.0       10.78         Anemometer   \n",
      "2        PASS         %               NaN       65.75           RH_Probe   \n",
      "3        PASS     deg F             120.4       71.05  Temperature_Probe   \n",
      "4        PASS       mph              25.0        1.38         Anemometer   \n",
      "\n",
      "            site station             ts meas_flag meas_method  \n",
      "0  San_Francisco   WSN-1  1661879864386       NaN         NaN  \n",
      "1  San_Francisco   WSN-1  1661879864386       NaN         NaN  \n",
      "2  San_Francisco   WSN-1  1661879864386       NaN         NaN  \n",
      "3  San_Francisco   WSN-1  1661879864674       NaN         NaN  \n",
      "4  San_Francisco   WSN-1  1661879864674       NaN         NaN  \n",
      "   company event meas_datatype  meas_lower_limit          meas_name  \\\n",
      "0  EpiData  none        double               NaN  Relative_Humidity   \n",
      "1  EpiData  none        double              10.1        Temperature   \n",
      "2  EpiData  none        double               0.0         Wind_Speed   \n",
      "3  EpiData  none        double               NaN  Relative_Humidity   \n",
      "4  EpiData  none        double              10.1        Temperature   \n",
      "\n",
      "  meas_status meas_unit  meas_upper_limit  meas_value             sensor  \\\n",
      "0        PASS         %               NaN       56.62           RH_Probe   \n",
      "1        PASS     deg F             120.4       71.25  Temperature_Probe   \n",
      "2        PASS       mph              25.0        6.73         Anemometer   \n",
      "3        PASS         %               NaN       62.57           RH_Probe   \n",
      "4        PASS     deg F             120.4       71.56  Temperature_Probe   \n",
      "\n",
      "            site station             ts  \n",
      "0  San_Francisco   WSN-1  1661879864674  \n",
      "1  San_Francisco   WSN-1  1661879864822  \n",
      "2  San_Francisco   WSN-1  1661879864822  \n",
      "3  San_Francisco   WSN-1  1661879864822  \n",
      "4  San_Francisco   WSN-1  1661879864970  \n",
      "   company event meas_datatype  meas_lower_limit          meas_name  \\\n",
      "0  EpiData  none        double               NaN  Relative_Humidity   \n",
      "1  EpiData  none        double              10.1        Temperature   \n",
      "2  EpiData  none        double               0.0         Wind_Speed   \n",
      "3  EpiData  none        double               NaN  Relative_Humidity   \n",
      "4  EpiData  none        double              10.1        Temperature   \n",
      "\n",
      "  meas_status meas_unit  meas_upper_limit  meas_value             sensor  \\\n",
      "0        PASS         %               NaN       56.62           RH_Probe   \n",
      "1        PASS     deg F             120.4       71.25  Temperature_Probe   \n",
      "2        PASS       mph              25.0        6.73         Anemometer   \n",
      "3        PASS         %               NaN       62.57           RH_Probe   \n",
      "4        PASS     deg F             120.4       71.56  Temperature_Probe   \n",
      "\n",
      "            site station             ts meas_flag meas_method  \n",
      "0  San_Francisco   WSN-1  1661879864674       NaN         NaN  \n",
      "1  San_Francisco   WSN-1  1661879864822       NaN         NaN  \n",
      "2  San_Francisco   WSN-1  1661879864822       NaN         NaN  \n",
      "3  San_Francisco   WSN-1  1661879864822       NaN         NaN  \n",
      "4  San_Francisco   WSN-1  1661879864970       NaN         NaN  \n"
     ]
    }
   ],
   "source": [
    "# Define tranformations and steam operations\n",
    "op1 = esc.create_transformation(substitute_demo, [\"Temperature\", \"Wind_Speed\"], {})\n",
    "# {\"method\": \"rolling\", \"s\": 3}\n",
    "# op1 = esc.create_transformation(\"Identity\", [\"Temperature\", \"Wind_Speed\"], {})\n",
    "# op1 = esc.create_transformation(identity_demo, [\"Temperature\", \"Wind_Speed\"], {})\n",
    "esc.create_stream(\"measurements_original\", \"measurements_cleansed\", op1)\n",
    "\n",
    "#op2 = esc.create_transformation(\"identity\", [\"Temperature\", \"Wind_Speed\"], {})\n",
    "#esc.create_stream(\"measurements_substituted_1\", \"measurements_cleansed\", op2)\n",
    "\n",
    "#op3 = esc.create_transformation(\"meas_statistics\", [\"Temperature\", \"Wind_Speed\"], {\"method\": \"standard\"})\n",
    "#esc.create_stream(\"measurements_substituted_1\", \"measurements_summary\", op3)\n",
    "\n",
    "# Start near real-time processing\n",
    "esc.start_streaming()"
   ]
  },
  {
   "cell_type": "markdown",
   "metadata": {},
   "source": [
    "<h3>Data Ingestion</h3>\n",
    "<p>We can now start data ingestion from simulated wireless sensor network. To do so, you can download and run the <i>sensor_data_ingest_with_outliers.py</i> example shown in the image below.</p>\n",
    "<img src=\"../static/jupyter_tree.png\">"
   ]
  },
  {
   "cell_type": "markdown",
   "metadata": {},
   "source": [
    "<h3>Data Query and Visualization</h3>"
   ]
  },
  {
   "cell_type": "markdown",
   "metadata": {},
   "source": [
    "<p>We will query and visualize processed data is using <i>ec.query_measurements_cleansed() and ec.query_measurements_summary()</i> functions. For our example, we specify paramaters that match sample data set, and query the aggregated values using <i>ec.query_measurements_summary()</i> function call.</p>"
   ]
  },
  {
   "cell_type": "code",
   "execution_count": 6,
   "metadata": {},
   "outputs": [
    {
     "name": "stdout",
     "output_type": "stream",
     "text": [
      "    company event meas_datatype  meas_lower_limit meas_method    meas_name  \\\n",
      "90  EpiData  none        double              10.1              Temperature   \n",
      "91  EpiData  none        double              10.1              Temperature   \n",
      "92  EpiData  none        double              10.1              Temperature   \n",
      "93  EpiData  none        double              10.1              Temperature   \n",
      "94  EpiData  none        double              10.1              Temperature   \n",
      "95  EpiData  none        double              10.1              Temperature   \n",
      "96  EpiData  none        double              10.1              Temperature   \n",
      "97  EpiData  none        double              10.1              Temperature   \n",
      "98  EpiData  none        double              10.1              Temperature   \n",
      "99  EpiData  none        double              10.1              Temperature   \n",
      "\n",
      "   meas_status meas_unit  meas_upper_limit  meas_value             sensor  \\\n",
      "90        PASS     deg F             120.4       70.70  Temperature_Probe   \n",
      "91        PASS     deg F             120.4       70.98  Temperature_Probe   \n",
      "92        PASS     deg F             120.4       71.14  Temperature_Probe   \n",
      "93        PASS     deg F             120.4       70.52  Temperature_Probe   \n",
      "94        PASS     deg F             120.4       71.38  Temperature_Probe   \n",
      "95        PASS     deg F             120.4       72.07  Temperature_Probe   \n",
      "96        PASS     deg F             120.4       72.29  Temperature_Probe   \n",
      "97        PASS     deg F             120.4       70.87  Temperature_Probe   \n",
      "98        PASS     deg F             120.4       71.03  Temperature_Probe   \n",
      "99        PASS     deg F             120.4       71.55  Temperature_Probe   \n",
      "\n",
      "             site station             ts  \n",
      "90  San_Francisco   WSN-1  1661879068091  \n",
      "91  San_Francisco   WSN-1  1661879068261  \n",
      "92  San_Francisco   WSN-1  1661879068435  \n",
      "93  San_Francisco   WSN-1  1661879070675  \n",
      "94  San_Francisco   WSN-1  1661879070839  \n",
      "95  San_Francisco   WSN-1  1661879070986  \n",
      "96  San_Francisco   WSN-1  1661879071145  \n",
      "97  San_Francisco   WSN-1  1661879072707  \n",
      "98  San_Francisco   WSN-1  1661879072850  \n",
      "99  San_Francisco   WSN-1  1661879073007  \n"
     ]
    }
   ],
   "source": [
    "# QUERY MEASUREMENTS_CLEANSED TABLE\n",
    "\n",
    "# primary_key={\"company\": \"Company-2\", \"site\": \"Site-1\", \"device_group\":\"1000\", \"tester\": \"Station-1\"}\n",
    "primary_key={\"company\": \"EpiData\", \"site\": \"San_Francisco\", \"station\":\"WSN-1\", \"sensor\": [\"Temperature_Probe\",\"Anemometer\",\"RH_Probe\"]}\n",
    "start_time = datetime.strptime('1/1/2022 00:00:00', '%m/%d/%Y %H:%M:%S')\n",
    "stop_time = datetime.strptime('1/1/2023 00:00:00', '%m/%d/%Y %H:%M:%S')\n",
    "\n",
    "df_cleansed = ec.query_measurements_cleansed(primary_key, start_time, stop_time)\n",
    "\n",
    "print(df_cleansed.tail(10))"
   ]
  },
  {
   "cell_type": "code",
   "execution_count": 7,
   "metadata": {},
   "outputs": [
    {
     "name": "stdout",
     "output_type": "stream",
     "text": [
      "Empty DataFrame\n",
      "Columns: []\n",
      "Index: []\n"
     ]
    }
   ],
   "source": [
    "# QUERY MEASUREMNTS_SUMMARY TABLE\n",
    "\n",
    "# primary_key={\"company\": \"Company-2\", \"site\": \"Site-1\", \"device_group\":\"1000\", \"tester\": \"Station-1\"}\n",
    "primary_key={\"company\": \"EpiData\", \"site\": \"San_Francisco\", \"station\":\"WSN-1\", \"sensor\": [\"Temperature_Probe\",\"Anemometer\",\"RH_Probe\"]}\n",
    "start_time = datetime.strptime('1/1/2022 00:00:00', '%m/%d/%Y %H:%M:%S')\n",
    "stop_time = datetime.strptime('1/1/2023 00:00:00', '%m/%d/%Y %H:%M:%S')\n",
    "\n",
    "df_summary = ec.query_measurements_summary(primary_key, start_time, stop_time)\n",
    "print(df_summary.tail(5))"
   ]
  },
  {
   "cell_type": "markdown",
   "metadata": {},
   "source": [
    "<h3>Stop Stream Analytics</h3>\n",
    "<p>The transformations can be stopped at any time via <i>esc.stop_streaming()</i> function call<p>"
   ]
  },
  {
   "cell_type": "code",
   "execution_count": null,
   "metadata": {},
   "outputs": [],
   "source": [
    "#Stop current near real-time processing\n",
    "esc.stop_streaming()"
   ]
  },
  {
   "cell_type": "markdown",
   "metadata": {},
   "source": [
    "<h2>Next Steps</h2>\n",
    "<p>Congratulations, you have successfully perfomed near real-time analytics on sample data aquired by a simulated wireless sensor network. The next step is to explore various capabilities of EpiData by creating your own custom analytics application!</p>"
   ]
  }
 ],
 "metadata": {
  "kernelspec": {
   "display_name": "Python 3",
   "language": "python",
   "name": "python3"
  },
  "language_info": {
   "codemirror_mode": {
    "name": "ipython",
    "version": 3
   },
   "file_extension": ".py",
   "mimetype": "text/x-python",
   "name": "python",
   "nbconvert_exporter": "python",
   "pygments_lexer": "ipython3",
   "version": "3.7.7"
  },
  "read_only": false
 },
 "nbformat": 4,
 "nbformat_minor": 1
}
