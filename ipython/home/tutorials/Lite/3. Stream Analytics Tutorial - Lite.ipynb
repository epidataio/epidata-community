{
 "cells": [
  {
   "cell_type": "markdown",
   "metadata": {},
   "source": [
    "<h1 style=\"text-align:center;text-decoration: underline\">Stream Analytics Tutorial</h1>\n",
    "<h1>Overview</h1>\n",
    "<p>Welcome to the stream analytics tutorial for EpiData Lite. In this tutorial we will perform near real-time stream analytics on sample weather data acquired from a simulated wireless sensor network.</p>"
   ]
  },
  {
   "cell_type": "markdown",
   "metadata": {},
   "source": [
    "<h2>Package and Module Imports</h2>\n",
    "<p>As a first step, we will import packages and modules required for this tutorial. Since <i>EpiData Lite Context (ec)</i> is required to use the application, it is implicitly imported. Sample functions for near real-time analytics are avaialable in <i>EpiData Analytics</i> package. Other packages and modules, such as <i>datetime</i>, <i>pandas</i> and <i>matplotlib</i>, can also be imported at this time.</p>"
   ]
  },
  {
   "cell_type": "code",
   "execution_count": null,
   "metadata": {},
   "outputs": [],
   "source": [
    "from epidata.EpidataLiteContext import EpidataLiteContext\n",
    "from epidata.EpidataLiteStreamingContext import EpidataLiteStreamingContext\n",
    "#from epidata.analytics import *\n",
    "\n",
    "%matplotlib inline\n",
    "from datetime import datetime, timedelta\n",
    "import pandas as pd\n",
    "import time\n",
    "import pylab as pl\n",
    "from IPython import display\n",
    "import json\n",
    "\n",
    "ec = EpidataLiteContext()\n",
    "esc = EpidataLiteStreamingContext()"
   ]
  },
  {
   "cell_type": "markdown",
   "metadata": {},
   "source": [
    "<h2>Stream Analysis</h2>\n",
    "<h3>Function Definition</h3>\n",
    "<p>EpiData supports development and deployment of custom algorithms via Jupyter Notebook. Below, we define python functions for substituting extreme outliers and aggregating temperature measurements. These functions can be operated on near real-time and historic data. In this tutorial, we will apply the functions on near real-time data being ingested to the platform</p>"
   ]
  },
  {
   "cell_type": "code",
   "execution_count": null,
   "metadata": {},
   "outputs": [],
   "source": [
    "import pandas as pd\n",
    "import math, numbers\n",
    "\n",
    "def identity_demo(df, meas_names=[], params={}):\n",
    "    \"\"\"\n",
    "    Returns input dataframe without changing it.\n",
    "    \"\"\"\n",
    "    \n",
    "    return df\n"
   ]
  },
  {
   "cell_type": "code",
   "execution_count": null,
   "metadata": {},
   "outputs": [],
   "source": [
    "import pandas as pd\n",
    "import math, numbers\n",
    "import json\n",
    "import numpy as np\n",
    "\n",
    "def substitute_demo(df, meas_names, gateway, method=\"rolling\", size=3):\n",
    "    \"\"\"\n",
    "    Substitute missing measurement values within a data frame, using the specified method.\n",
    "    \"\"\"\n",
    "    print(df)\n",
    "    df[\"meas_value\"].replace(250, np.nan, inplace=True)\n",
    "    \n",
    "    for meas_name in meas_names:\n",
    "\n",
    "        if (method == \"rolling\"):\n",
    "            if ((size % 2 == 0) and (size != 0)): size += 1   \n",
    "            if df.loc[df[\"meas_name\"]==meas_name].size > 0:\n",
    "                indices = df.loc[df[\"meas_name\"] == meas_name].index[df.loc[df[\"meas_name\"] == meas_name][\"meas_value\"].apply(\n",
    "                    lambda x: not isinstance(x, str) and (x == None or np.isnan(x)))]\n",
    "                substitutes = df.loc[df[\"meas_name\"]==meas_name][\"meas_value\"].rolling( window=size, min_periods=1, center=True).mean()\n",
    "            \n",
    "                df[\"meas_value\"].fillna(substitutes, inplace=True)\n",
    "                df.loc[indices, \"meas_flag\"] = \"substituted\"\n",
    "                df.loc[indices, \"meas_method\"] = \"rolling average\"\n",
    "        else:\n",
    "            raise ValueError(\"Unsupported substitution method: \", repr(method))\n",
    "    print(df)\n",
    "    return df\n"
   ]
  },
  {
   "cell_type": "code",
   "execution_count": null,
   "metadata": {},
   "outputs": [],
   "source": [
    "import pandas as pd\n",
    "import numpy as np\n",
    "import json\n",
    "\n",
    "def subgroup_statistics(row):\n",
    "    row['start_time'] = np.min(row[\"ts\"])\n",
    "    row[\"stop_time\"] = np.max(row[\"ts\"])\n",
    "    row[\"meas_summary_name\"] = \"statistics\"\n",
    "    row[\"meas_summary_value\"] = json.dumps({'count': row[\"meas_value\"].count(), 'mean': row[\"meas_value\"].mean(),\n",
    "                                            'std': row[\"meas_value\"].std(), 'min': row[\"meas_value\"].min(), \n",
    "                                            'max': row[\"meas_value\"].max()})\n",
    "    row[\"meas_summary_description\"] = \"descriptive statistics\"\n",
    "    return row\n",
    "\n",
    "def meas_statistics_demo(df, meas_names, method=\"standard\"):\n",
    "    \"\"\"\n",
    "    Compute statistics on measurement values within a data frame, using the specified method.\n",
    "    \"\"\"\n",
    "    \n",
    "    if (method == \"standard\"):\n",
    "        df_grouped = df.loc[df[\"meas_name\"].isin(meas_names)].groupby([\"company\", \"site\", \"station\", \"sensor\"], \n",
    "                            as_index=False)\n",
    "        df_summary = df_grouped.apply(subgroup_statistics).loc[:, [\"company\", \"site\", \"station\", \"sensor\",\n",
    "            \"start_time\", \"stop_time\", \"event\", \"meas_name\", \"meas_summary_name\", \"meas_summary_value\", \n",
    "            \"meas_summary_description\"]].drop_duplicates()\n",
    "    else:\n",
    "        raise ValueError(\"Unsupported summary method: \", repr(method))\n",
    "                \n",
    "    return df_summary"
   ]
  },
  {
   "cell_type": "markdown",
   "metadata": {},
   "source": [
    "<h3>Transformations and Streams</h3>\n",
    "<p>The analytics algorithms are executed on near real-time data through transformations. A transformation specifies the function, its parameters and destination. The destination can be one of the pre-defined topics, namely <i>'measurements_cleansed'</i> or <i>'measurements_summary'</i>, or another custom topic.</p>\n",
    "<p>Once the transformations are defined, they are initiated via <i>ec.create_stream(source_topic, destination_topic, transformation)</i> function call.</p>"
   ]
  },
  {
   "cell_type": "code",
   "execution_count": null,
   "metadata": {},
   "outputs": [],
   "source": [
    "# Define tranformations and steam operations\n",
    "op1 = esc.create_transformation(substitute_demo, [\"Temperature\", \"Wind_Speed\"], {})\n",
    "# {\"method\": \"rolling\", \"s\": 3}\n",
    "# op1 = esc.create_transformation(\"Identity\", [\"Temperature\", \"Wind_Speed\"], {})\n",
    "# op1 = esc.create_transformation(identity_demo, [\"Temperature\", \"Wind_Speed\"], {})\n",
    "esc.create_stream(\"measurements_original\", \"measurements_cleansed\", op1)\n",
    "\n",
    "#op2 = esc.create_transformation(\"identity\", [\"Temperature\", \"Wind_Speed\"], {})\n",
    "#esc.create_stream(\"measurements_substituted_1\", \"measurements_cleansed\", op2)\n",
    "\n",
    "#op3 = esc.create_transformation(\"meas_statistics\", [\"Temperature\", \"Wind_Speed\"], {\"method\": \"standard\"})\n",
    "#esc.create_stream(\"measurements_substituted_1\", \"measurements_summary\", op3)\n",
    "\n",
    "# Start near real-time processing\n",
    "esc.start_streaming()"
   ]
  },
  {
   "cell_type": "markdown",
   "metadata": {},
   "source": [
    "<h3>Data Ingestion</h3>\n",
    "<p>We can now start data ingestion from simulated wireless sensor network. To do so, you can download and run the <i>sensor_data_ingest_with_outliers.py</i> example shown in the image below.</p>\n",
    "<img src=\"../static/jupyter_tree.png\">"
   ]
  },
  {
   "cell_type": "markdown",
   "metadata": {},
   "source": [
    "<h3>Data Query and Visualization</h3>"
   ]
  },
  {
   "cell_type": "markdown",
   "metadata": {},
   "source": [
    "<p>We will query and visualize processed data is using <i>ec.query_measurements_cleansed() and ec.query_measurements_summary()</i> functions. For our example, we specify paramaters that match sample data set, and query the aggregated values using <i>ec.query_measurements_summary()</i> function call.</p>"
   ]
  },
  {
   "cell_type": "code",
   "execution_count": null,
   "metadata": {},
   "outputs": [],
   "source": [
    "# QUERY MEASUREMENTS_CLEANSED TABLE\n",
    "\n",
    "# primary_key={\"company\": \"Company-2\", \"site\": \"Site-1\", \"device_group\":\"1000\", \"tester\": \"Station-1\"}\n",
    "primary_key={\"company\": \"EpiData\", \"site\": \"San_Francisco\", \"station\":\"WSN-1\", \"sensor\": [\"Temperature_Probe\",\"Anemometer\",\"RH_Probe\"]}\n",
    "start_time = datetime.strptime('1/1/2022 00:00:00', '%m/%d/%Y %H:%M:%S')\n",
    "stop_time = datetime.strptime('1/1/2023 00:00:00', '%m/%d/%Y %H:%M:%S')\n",
    "\n",
    "df_cleansed = ec.query_measurements_cleansed(primary_key, start_time, stop_time)\n",
    "\n",
    "print(df_cleansed.tail(10))"
   ]
  },
  {
   "cell_type": "code",
   "execution_count": null,
   "metadata": {},
   "outputs": [],
   "source": [
    "# QUERY MEASUREMNTS_SUMMARY TABLE\n",
    "\n",
    "# primary_key={\"company\": \"Company-2\", \"site\": \"Site-1\", \"device_group\":\"1000\", \"tester\": \"Station-1\"}\n",
    "primary_key={\"company\": \"EpiData\", \"site\": \"San_Francisco\", \"station\":\"WSN-1\", \"sensor\": [\"Temperature_Probe\",\"Anemometer\",\"RH_Probe\"]}\n",
    "start_time = datetime.strptime('1/1/2022 00:00:00', '%m/%d/%Y %H:%M:%S')\n",
    "stop_time = datetime.strptime('1/1/2023 00:00:00', '%m/%d/%Y %H:%M:%S')\n",
    "\n",
    "df_summary = ec.query_measurements_summary(primary_key, start_time, stop_time)\n",
    "print(df_summary.tail(5))"
   ]
  },
  {
   "cell_type": "markdown",
   "metadata": {},
   "source": [
    "<h3>Stop Stream Analytics</h3>\n",
    "<p>The transformations can be stopped at any time via <i>esc.stop_streaming()</i> function call<p>"
   ]
  },
  {
   "cell_type": "code",
   "execution_count": null,
   "metadata": {},
   "outputs": [],
   "source": [
    "#Stop current near real-time processing\n",
    "esc.stop_streaming()"
   ]
  },
  {
   "cell_type": "markdown",
   "metadata": {},
   "source": [
    "<h2>Next Steps</h2>\n",
    "<p>Congratulations, you have successfully perfomed near real-time analytics on sample data aquired by a simulated wireless sensor network. The next step is to explore various capabilities of EpiData by creating your own custom analytics application!</p>"
   ]
  }
 ],
 "metadata": {
  "kernelspec": {
   "display_name": "Python 3",
   "language": "python",
   "name": "python3"
  },
  "language_info": {
   "codemirror_mode": {
    "name": "ipython",
    "version": 3
   },
   "file_extension": ".py",
   "mimetype": "text/x-python",
   "name": "python",
   "nbconvert_exporter": "python",
   "pygments_lexer": "ipython3",
   "version": "3.7.7"
  },
  "read_only": false
 },
 "nbformat": 4,
 "nbformat_minor": 1
}
