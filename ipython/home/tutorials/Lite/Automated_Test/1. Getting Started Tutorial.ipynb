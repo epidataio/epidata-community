{
 "cells": [
  {
   "cell_type": "markdown",
   "metadata": {},
   "source": [
    "<h1 style=\"text-align:center;text-decoration: underline\">Getting Started Tutorial</h1>\n",
    "<h1>Overview</h1>\n",
    "<p>Welcome to the getting started tutorial for EpiData Lite's Jupyter Notebook inteface. In this tutorial we will query, retrieve and analyze sample weather data acquired from a simulated wireless sensor network.</p>\n",
    "<p><b>Note:</b> This tutorial assumes the EpiData Lite platform was started with measurement-class=\"sensor_measurement\" (default) setting via conf/application.conf. If the platform was started with measurement-class=\"automated_test\" setting, please follow the tutorial in Automated Test folder.</p>"
   ]
  },
  {
   "cell_type": "markdown",
   "metadata": {},
   "source": [
    "<h2>EpiDataLiteContext</h2>"
   ]
  },
  {
   "cell_type": "markdown",
   "metadata": {},
   "source": [
    "<h3>1. Context and Modules Import</h3>\n",
    "<p>As a first step, We will import the <i>EpiDataLiteContext</i> object <i>ec</i>. EpiDataLiteContext provides methods for query and offline analytics on batch data.</p> \n",
    "\n",
    "<p>We will also import packages and modules required for this tutorial.<p> "
   ]
  },
  {
   "cell_type": "code",
   "execution_count": null,
   "metadata": {},
   "outputs": [],
   "source": [
    "from epidata.EpiDataLiteContext import ec\n",
    "\n",
    "from datetime import datetime, timedelta\n",
    "import pandas as pd\n",
    "import matplotlib.pyplot as plt\n",
    "\n",
    "print(ec)"
   ]
  },
  {
   "cell_type": "markdown",
   "metadata": {},
   "source": [
    "<h3>2. Context Initialization</h3>\n",
    "<p>Next, we initialize the EpiDataLiteContext object. This step opens the required network connections for querying the data using EpiDataLiteContext API.</p>"
   ]
  },
  {
   "cell_type": "code",
   "execution_count": null,
   "metadata": {},
   "outputs": [],
   "source": [
    "ec.init()"
   ]
  },
  {
   "cell_type": "markdown",
   "metadata": {},
   "source": [
    "<h2>Data Ingestion</h2>\n",
    "\n",
    "<h3>1. Download Python Script</h3>\n",
    "\n",
    "<p>We will use the provided Python script <i>sensor_data_ingest_with_outliers.py</i> to simulate weather data and push it to the EpiData Lite platform. Download the example <i>sensor_data_ingest_with_outliers.py</i> from Jupyter Notebook's tree view as show below.</p>\n",
    "<img src=\"./static/jupyter_tree.png\">"
   ]
  },
  {
   "cell_type": "markdown",
   "metadata": {},
   "source": [
    "<h3>2. Ingest Data</h3>\n",
    "<p>The next step is to run the Python script <i>'sensor_data_ingest_with_outliers.py'</i> using a Python 3 interpreter. The example sends simulated weather data to EpiData Lite platform using REST interface. You should see status of each ingestion steps in your standard output.</p>"
   ]
  },
  {
   "cell_type": "markdown",
   "metadata": {},
   "source": [
    "<h2>Query and Retrieve</h2>\n",
    "\n",
    "<h3>1. Query</h3>\n",
    "<p>Data stored in the EpiData platform can be queried by specifying the primary data attributes, start time and stop time. Below are the primary data attributes for the current dataset:\n",
    "<ul>\n",
    "<li><i>company, site, station, sensor</i></li>\n",
    "</ul>\n",
    "</p>\n",
    "<p>\n",
    "We can use EpiDataLiteContext's <i>list_keys()</i> method to obtain the values of the primary data attributes for our simulated weather dataset.</p>"
   ]
  },
  {
   "cell_type": "code",
   "execution_count": null,
   "metadata": {},
   "outputs": [],
   "source": [
    "keys = ec.list_keys()\n",
    "\n",
    "print(keys)"
   ]
  },
  {
   "cell_type": "markdown",
   "metadata": {},
   "source": [
    "<p>Now that we know the valid values of the primary data attributes, we can specify them in EpiDataLiteContext's <i>query_measurements_original()</i> method. The method outputs the query result as a <i>Pandas DataFrame</i>.</p>"
   ]
  },
  {
   "cell_type": "code",
   "execution_count": null,
   "metadata": {},
   "outputs": [],
   "source": [
    "primary_key={\"company\": \"EpiData\", \"site\": \"San_Francisco\", \"station\":\"WSN-1\", \"sensor\": [\"Temperature_Probe\",\"Anemometer\",\"RH_Probe\"]}\n",
    "start_time = datetime.strptime('01/01/2023 00:00:00', '%m/%d/%Y %H:%M:%S')\n",
    "stop_time = datetime.strptime('01/01/2024 00:00:00', '%m/%d/%Y %H:%M:%S')\n",
    "\n",
    "df = ec.query_measurements_original(primary_key, start_time, stop_time)"
   ]
  },
  {
   "cell_type": "markdown",
   "metadata": {},
   "source": [
    "<h3>2. Retrieve</h3>\n",
    "<p>Data is retrieved from EpiData Lite platform as a <i>Pandas dataframe</i>. We can peform simple aggegation operations, such as count of the measurements, using Pandas Dataframe's <i>count</i> method.</p>"
   ]
  },
  {
   "cell_type": "code",
   "execution_count": null,
   "metadata": {},
   "outputs": [],
   "source": [
    "print(\"Number of records:\", df.count())\n",
    "df.head(5)"
   ]
  },
  {
   "cell_type": "markdown",
   "metadata": {},
   "source": [
    "<h2>Data Analysis</h2>\n",
    "<p>Once data is available in a <i>pandas DataFrame</i>, we can call any of the high-performance and easy-to-use data analysis functions available in <i>pandas</i> library. Let's start by computing basic statistics such as min, max, mean, standard deviation and percentile for temperature measurements.</p>"
   ]
  },
  {
   "cell_type": "code",
   "execution_count": null,
   "metadata": {},
   "outputs": [],
   "source": [
    "df = df.loc[df[\"meas_name\"]==\"Temperature\"]\n",
    "df[\"meas_value\"].describe()"
   ]
  },
  {
   "cell_type": "markdown",
   "metadata": {},
   "source": [
    "<p>Next, we'll look at the distribution of the temperature measurements using a histogram.</p>"
   ]
  },
  {
   "cell_type": "code",
   "execution_count": null,
   "metadata": {},
   "outputs": [],
   "source": [
    "plt.rcParams[\"figure.figsize\"] = [10,5]\n",
    "plt.title(\"Histogram - Temperature Measurements\")\n",
    "plt.xlabel(\"Temperature (deg F)\")\n",
    "plt.ylabel(\"Frequency\")\n",
    "\n",
    "df[\"meas_value\"].hist()"
   ]
  },
  {
   "cell_type": "markdown",
   "metadata": {},
   "source": [
    "<p>As we can see, most of the temperature measurements in our sample data are quite moderate. However, there are some measurements that are unusually high. Let's identify these outlier measurements using a simple method that compares each measurement with the sample mean and standard deviation.</p>"
   ]
  },
  {
   "cell_type": "code",
   "execution_count": null,
   "metadata": {},
   "outputs": [],
   "source": [
    "outliers = df.loc[abs(df[\"meas_value\"] - df[\"meas_value\"].mean()) > abs(3*df[\"meas_value\"].std())]\n",
    "print(\"Number of Outliers:\", outliers[\"meas_value\"].count())\n",
    "\n",
    "outliers.head()"
   ]
  },
  {
   "cell_type": "markdown",
   "metadata": {},
   "source": [
    "<h2>Context Close</h2>\n",
    "<p>Now, we can clear (reset) the EpiDataLiteContext object.</p>"
   ]
  },
  {
   "cell_type": "code",
   "execution_count": null,
   "metadata": {},
   "outputs": [],
   "source": [
    "ec.clear()"
   ]
  },
  {
   "cell_type": "markdown",
   "metadata": {},
   "source": [
    "<h2>Next Steps</h2>\n",
    "<p>Congratulations, you have successfully queried, retrieved and analyzed sample data aquired by a simulated weather station. The next step is to explore the various capabilities of <i>EpiData Lite</i> by creating your own Jupyter Notebook. Happy Data Exploring!</p>"
   ]
  }
 ],
 "metadata": {
  "kernelspec": {
   "display_name": "Python 3 (ipykernel)",
   "language": "python",
   "name": "python3"
  },
  "language_info": {
   "codemirror_mode": {
    "name": "ipython",
    "version": 3
   },
   "file_extension": ".py",
   "mimetype": "text/x-python",
   "name": "python",
   "nbconvert_exporter": "python",
   "pygments_lexer": "ipython3",
   "version": "3.9.13"
  },
  "read_only": true
 },
 "nbformat": 4,
 "nbformat_minor": 1
}
