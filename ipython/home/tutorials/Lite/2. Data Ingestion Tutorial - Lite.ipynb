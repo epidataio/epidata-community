{
 "cells": [
  {
   "cell_type": "markdown",
   "metadata": {},
   "source": [
    "<h1 style=\"text-align:center;text-decoration: underline\">Data Ingestion Tutorial</h1>\n",
    "<h1>Overview</h1>\n",
    "<p>Welcome to the data ingestion tutorial. In this tutorial, we'll go over steps required to ingest data into EpiData. We'll also query the data and verify that our ingestion process was successful.</p>"
   ]
  },
  {
   "cell_type": "markdown",
   "metadata": {},
   "source": [
    "<h2>Device Authentication Settings</h2>\n",
    "\n",
    "<p>The first step in ingesting data into EpiData is to configure the list of authenticated devices. Configure this list in play/conf/application.conf file. The list consists of DEVICE_ID - DEVICE_TOKEN pairs for authenticated devices.</p> \n",
    "\n",
    "<p>Be sure to restart EpiData play application after changing the device authentication settings.<p>"
   ]
  },
  {
   "cell_type": "markdown",
   "metadata": {},
   "source": [
    "<h2>Modify Ingestion Example</h2>\n",
    "<p>Once you have configured the device authentication settings, you can update the default configuration in the data ingestion program by following these steps:<p>\n",
    "<ul><li><p>Download the Python ingestion example <i>sensor_data_ingest_with_outliers.py</i> available in your Notebook tree view.</p></li>\n",
    "<li><p>Update the DEVICE_ID and DEVICE_TOKEN variable values (in <i>sensor_data_ingest_with_outliers.py</i>) to match the values configures in play/conf/application.conf.\n",
    "<ul><li>DEVICE_ID = '&#60;Device ID&#62;'</li></ul>\n",
    "<ul><li>DEVICE_TOKEN = '&#60;Device Token&#62;'</li></ul>    \n",
    "</li></p>\n",
    "<li><p>Modify the default values of the following variables (optional):\n",
    "<ul><li>COMPANY</li>\n",
    "<li>SITE</li>\n",
    "<li>STATION</li>\n",
    "</ul></li>\n",
    "</ul></p>"
   ]
  },
  {
   "cell_type": "markdown",
   "metadata": {},
   "source": [
    "<h2>Run Ingestion Example</h2>\n",
    "<p>The next step is to run the updated example <i>'sensor_data_ingest_with_outliers.py'</i> by using a Python 3 interpreter. The example sends data to EpiData server using REST interface. You should see status of each ingestion steps in your standard output.</p>\n",
    "<p>You can let the example run and ingest data for a short period of time, and interrupt it by using Ctrl-C command.</p>"
   ]
  },
  {
   "cell_type": "markdown",
   "metadata": {},
   "source": [
    "<h2>Query and Display Data</h2>\n",
    "<p>We'll now query the database for the data that was ingested in the previous step. Let's start by running the cell below that imports the required modules.</p>"
   ]
  },
  {
   "cell_type": "code",
   "execution_count": null,
   "metadata": {},
   "outputs": [],
   "source": [
    "from epidata.EpidataLiteContext import ec\n",
    "\n",
    "from datetime import datetime, timedelta\n",
    "import pandas as pd"
   ]
  },
  {
   "cell_type": "markdown",
   "metadata": {},
   "source": [
    "<p>In the cell below, let's modify the variables COMPANY, SITE and SENSOR to match the data recently ingested, and run the cell to query the data.</p>"
   ]
  },
  {
   "cell_type": "code",
   "execution_count": null,
   "metadata": {},
   "outputs": [],
   "source": [
    "COMPANY = 'EpiData'\n",
    "SITE = 'San_Francisco'\n",
    "STATION = 'WSN-1'\n",
    "start_time = datetime.strptime('1/1/2022 00:00:00', '%m/%d/%Y %H:%M:%S')\n",
    "stop_time = datetime.strptime('1/1/2023 00:00:00', '%m/%d/%Y %H:%M:%S')\n",
    "\n",
    "primary_key={\"company\": COMPANY, \"site\": SITE, \"station\": STATION, \"sensor\": [\"Temperature_Probe\",\"Anemometer\",\"RH_Probe\"]}\n",
    "df = ec.query_measurements_original(primary_key, start_time, stop_time)"
   ]
  },
  {
   "cell_type": "markdown",
   "metadata": {},
   "source": [
    "<p>Next we'll display the initial few records using <i>df.show()</i> function, and visually verify that the data matches the ingested data.</p>"
   ]
  },
  {
   "cell_type": "code",
   "execution_count": null,
   "metadata": {},
   "outputs": [],
   "source": [
    "df.head(5)"
   ]
  },
  {
   "cell_type": "markdown",
   "metadata": {},
   "source": [
    "<h2>Summary</h2>"
   ]
  },
  {
   "cell_type": "markdown",
   "metadata": {},
   "source": [
    "<p>Congratulations, you have successfully completed the steps of configuring authenticated devices, establishing an authenticated connection, ingesting sample data and querying the ingested data. These are the basic steps involved in using EpiData for sensor measurements.</p>"
   ]
  }
 ],
 "metadata": {
  "kernelspec": {
   "display_name": "Python 3 (ipykernel)",
   "language": "python",
   "name": "python3"
  },
  "language_info": {
   "codemirror_mode": {
    "name": "ipython",
    "version": 3
   },
   "file_extension": ".py",
   "mimetype": "text/x-python",
   "name": "python",
   "nbconvert_exporter": "python",
   "pygments_lexer": "ipython3",
   "version": "3.7.7"
  },
  "read_only": true
 },
 "nbformat": 4,
 "nbformat_minor": 1
}
